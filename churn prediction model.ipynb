{
 "cells": [
  {
   "cell_type": "code",
   "execution_count": null,
   "id": "69c907b4",
   "metadata": {},
   "outputs": [],
   "source": [
    "import pandas as pd\n",
    "import numpy as np\n",
    "import scipy.stats\n",
    "import seaborn as sns\n",
    "import matplotlib.pyplot as plt\n",
    "\n",
    "import statsmodels.formula.api as smf\n",
    "import statsmodels.stats.multicomp as multi \n",
    "\n",
    "from sklearn.model_selection import train_test_split\n",
    "from sklearn.tree import DecisionTreeClassifier\n",
    "from sklearn.metrics import classification_report\n",
    "import sklearn.metrics\n",
    "from sklearn.preprocessing import LabelEncoder\n",
    "\n",
    "from sklearn import tree\n",
    "from io import StringIO\n",
    "from IPython.display import Image\n",
    "#import pydotplus\n",
    "\n",
    "from sklearn.ensemble import RandomForestClassifier\n",
    "from sklearn.ensemble import ExtraTreesClassifier\n",
    "\n",
    "from sklearn.linear_model import LassoLarsCV\n",
    "from sklearn import preprocessing\n",
    "\n",
    "from sklearn.cluster import KMeans\n",
    "from pandas import DataFrame"
   ]
  },
  {
   "cell_type": "code",
   "execution_count": null,
   "id": "ba2cb4da",
   "metadata": {},
   "outputs": [],
   "source": [
    "\n",
    "df = pd.read_csv(\"D:\\churn model\\churn prediction data.CSV\")\n",
    "\n",
    "data = df.dropna()\n",
    "data"
   ]
  },
  {
   "cell_type": "code",
   "execution_count": null,
   "id": "03df0f5a",
   "metadata": {},
   "outputs": [],
   "source": [
    "lb=LabelEncoder()\n",
    "data[\"CreditScore\"]=lb.fit_transform(data[\"CreditScore\"])\n",
    "data"
   ]
  },
  {
   "cell_type": "code",
   "execution_count": null,
   "id": "a88a5a1d",
   "metadata": {},
   "outputs": [],
   "source": [
    "'''RECODING VARIABLES\n",
    "Gender : Male as 0 Female as 1\n",
    "'''\n",
    "\n",
    "recode1={'Male':'0', 'Female':'1'}\n",
    "data['Gender'] = data['Gender'].map(recode1)\n",
    "data['Gender'] = pd.to_numeric(data['Gender'], errors='ignore')\n",
    "print('Recoded Gender field')\n",
    "data['Gender']"
   ]
  },
  {
   "cell_type": "code",
   "execution_count": null,
   "id": "05d5e310",
   "metadata": {},
   "outputs": [],
   "source": [
    "\n",
    "print('\\ncontingency table of observed counts')\n",
    "ct1=pd.crosstab(data['HasCrCard'], data['Exited'])\n",
    "print (ct1)"
   ]
  },
  {
   "cell_type": "code",
   "execution_count": null,
   "id": "041aa78e",
   "metadata": {},
   "outputs": [],
   "source": [
    "\n",
    "print('\\ncolumn percentages')\n",
    "colsum=ct1.sum(axis=0)\n",
    "colpct=ct1/colsum\n",
    "print(colpct)"
   ]
  },
  {
   "cell_type": "code",
   "execution_count": null,
   "id": "46f71ee1",
   "metadata": {
    "lines_to_next_cell": 0
   },
   "outputs": [],
   "source": [
    "\n",
    "print('\\nchi-square')\n",
    "print ('chi-square value, p value, expected counts')\n",
    "cs1= scipy.stats.chi2_contingency(ct1)\n",
    "print (cs1)"
   ]
  },
  {
   "cell_type": "code",
   "execution_count": null,
   "id": "aa1d5134",
   "metadata": {},
   "outputs": [],
   "source": [
    "print (data.dtypes)"
   ]
  },
  {
   "cell_type": "code",
   "execution_count": null,
   "id": "fce62ba1",
   "metadata": {
    "lines_to_next_cell": 2
   },
   "outputs": [],
   "source": [
    "# Exclude non-numeric columns\n",
    "numeric_data = data.select_dtypes(include=[np.number])\n",
    "\n",
    "# Calculate correlation matrix\n",
    "corr = numeric_data.corr()\n",
    "\n",
    "# Plot heatmap\n",
    "sns.heatmap(corr, annot=True, fmt=\".2f\")\n",
    "plt.show()"
   ]
  },
  {
   "cell_type": "code",
   "execution_count": null,
   "id": "d0a719f3",
   "metadata": {},
   "outputs": [],
   "source": [
    "\n",
    "from sklearn.feature_selection import SelectKBest, f_classif,chi2\n",
    "data = data.dropna()\n",
    "X = data.drop([\"Exited\",'RowNumber','CustomerId','Surname','Geography'], axis=1)\n",
    "y = data[\"Exited\"]\n",
    "selector = SelectKBest(f_classif, k=9)\n",
    "selector.fit(X, y)\n",
    "\n",
    "scores = selector.scores_\n",
    "pvalues = selector.pvalues_\n",
    "\n",
    "print (scores)\n",
    "print (pvalues)\n",
    "\n",
    "\n",
    "X_new = SelectKBest(chi2, k=3).fit_transform(X, y)\n",
    "\n",
    "print(X_new.shape)"
   ]
  },
  {
   "cell_type": "code",
   "execution_count": null,
   "id": "eb5a5aa4",
   "metadata": {
    "lines_to_next_cell": 0
   },
   "outputs": [],
   "source": [
    "\n",
    "XForClassfication = data[['Age','Balance','EstimatedSalary','IsActiveMember']]"
   ]
  },
  {
   "cell_type": "code",
   "execution_count": null,
   "id": "e96b8e00",
   "metadata": {},
   "outputs": [],
   "source": [
    "\n",
    "from sklearn.linear_model import LogisticRegression\n",
    "\n",
    "from sklearn.metrics import accuracy_score, confusion_matrix\n",
    "\n",
    "\n",
    "X_train, X_test, y_train, y_test = train_test_split(XForClassfication, y, test_size=0.2, random_state=0)\n",
    "\n",
    "model = LogisticRegression()\n",
    "model.fit(X_train, y_train)\n",
    "y_pred = model.predict(X_test)\n",
    "\n",
    "accuracy = accuracy_score(y_test, y_pred)\n",
    "print(\"Accuracy: {:.2f}%\".format(accuracy * 100))\n",
    "cm = confusion_matrix(y_test, y_pred)\n",
    "sns.heatmap(cm, annot=True,fmt=\".0f\")\n",
    "plt.show()"
   ]
  },
  {
   "cell_type": "code",
   "execution_count": null,
   "id": "86a57843",
   "metadata": {
    "lines_to_next_cell": 2
   },
   "outputs": [],
   "source": [
    "\n",
    "\n",
    "model2 = RandomForestClassifier()\n",
    "model2.fit(X_train, y_train)\n",
    "y2_pred = model2.predict(X_test)\n",
    "accuracy = accuracy_score(y_test, y2_pred)\n",
    "print(\"Accuracy: {:.2f}%\".format(accuracy * 100))\n",
    "cm2 = confusion_matrix(y_test, y2_pred)\n",
    "sns.heatmap(cm2, annot=True,fmt=\".0f\")\n",
    "plt.show()"
   ]
  },
  {
   "cell_type": "code",
   "execution_count": null,
   "id": "81ba69dc",
   "metadata": {},
   "outputs": [],
   "source": [
    "X_train, X_test, y_train, y_test = train_test_split(XForClassfication, y, test_size=0.2, random_state=0)\n",
    "\n",
    "from sklearn.svm import SVC\n",
    "model3 = SVC()\n",
    "model3.fit(X_train, y_train)\n",
    "y3_pred = model3.predict(X_test)\n",
    "accuracy = accuracy_score(y_test, y3_pred)\n",
    "print(\"Accuracy: {:.2f}%\".format(accuracy * 100))\n",
    "cm3 = confusion_matrix(y_test, y3_pred)\n",
    "sns.heatmap(cm3, annot=True,fmt=\".0f\")\n",
    "plt.show()"
   ]
  },
  {
   "cell_type": "code",
   "execution_count": null,
   "id": "9c907495",
   "metadata": {},
   "outputs": [],
   "source": [
    "\n",
    "from sklearn.naive_bayes import GaussianNB\n",
    "from sklearn.neighbors import KNeighborsClassifier\n",
    "\n",
    "model4 = GaussianNB()\n",
    "model4.fit(X_train, y_train)\n",
    "y4_pred = model4.predict(X_test)\n",
    "accuracy = accuracy_score(y_test, y4_pred)\n",
    "print(\"Accuracy: {:.2f}%\".format(accuracy * 100))\n",
    "cm4 = confusion_matrix(y_test, y4_pred)\n",
    "sns.heatmap(cm4, annot=True,fmt=\".0f\")\n",
    "plt.show()\n",
    "\n",
    "model5 = KNeighborsClassifier()\n",
    "model5.fit(X_train, y_train)\n",
    "y5_pred = model5.predict(X_test)\n",
    "accuracy = accuracy_score(y_test, y5_pred)\n",
    "print(\"Accuracy: {:.2f}%\".format(accuracy * 100))\n",
    "cm5 = confusion_matrix(y_test, y5_pred)\n",
    "sns.heatmap(cm5, annot=True,fmt=\".0f\")\n",
    "plt.show()"
   ]
  },
  {
   "cell_type": "code",
   "execution_count": null,
   "id": "493a60b6",
   "metadata": {},
   "outputs": [],
   "source": []
  }
 ],
 "metadata": {
  "jupytext": {
   "cell_metadata_filter": "-all",
   "notebook_metadata_filter": "-all",
   "text_representation": {
    "extension": ".py",
    "format_name": "percent"
   }
  },
  "kernelspec": {
   "display_name": "Python 3 (ipykernel)",
   "language": "python",
   "name": "python3"
  }
 },
 "nbformat": 4,
 "nbformat_minor": 5
}
